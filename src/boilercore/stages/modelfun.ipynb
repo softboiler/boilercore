{
 "cells": [
  {
   "attachments": {},
   "cell_type": "markdown",
   "metadata": {},
   "source": [
    "# Heat transfer in a fin with piecewise variation of some parameters\n"
   ]
  },
  {
   "attachments": {},
   "cell_type": "markdown",
   "metadata": {},
   "source": [
    "## Setup\n"
   ]
  },
  {
   "cell_type": "code",
   "execution_count": null,
   "metadata": {
    "tags": [
     "parameters"
    ]
   },
   "outputs": [],
   "source": [
    "import warnings\n",
    "from sys import version_info\n",
    "\n",
    "import dill\n",
    "import numpy as np\n",
    "from sympy import Eq, FiniteSet, Piecewise, Subs, dsolve, lambdify, pi\n",
    "from uncertainties import umath\n",
    "\n",
    "from boilercore.models.params import PARAMS\n",
    "from boilercore.notebooks import disp, disp_free\n",
    "\n",
    "from boilercore.syms import (  # isort: skip\n",
    "    params,\n",
    "    x,\n",
    "    T_s,\n",
    "    q_s,\n",
    "    h_a,\n",
    "    k,\n",
    "    h_w,\n",
    "    inputs,\n",
    "    r,\n",
    "    T_infa,\n",
    "    T_infw,\n",
    "    x_s,\n",
    "    x_wa,\n",
    "    intermediate_vars,\n",
    "    h,\n",
    "    q_0,\n",
    "    q_wa,\n",
    "    T_0,\n",
    "    T_inf,\n",
    "    T_wa,\n",
    "    x_0,\n",
    "    functions,\n",
    "    T_int,\n",
    "    T_a,\n",
    "    T_w,\n",
    "    T,\n",
    ")\n",
    "\n",
    "PYTHON_VERSION = \".\".join([str(elem) for elem in version_info[:2]])"
   ]
  },
  {
   "attachments": {},
   "cell_type": "markdown",
   "metadata": {},
   "source": [
    "## Parameters\n",
    "\n",
    "Paramaters for this analysis.\n"
   ]
  },
  {
   "cell_type": "code",
   "execution_count": null,
   "metadata": {},
   "outputs": [],
   "source": [
    "PYTHON_VERSION = str(PYTHON_VERSION)\n",
    "for key, val in {\n",
    "    \"Model parameters\": params,\n",
    "    \"Model inputs\": inputs,\n",
    "    \"Intermediate variables\": intermediate_vars,\n",
    "}.items():\n",
    "    disp(key, FiniteSet(*val))\n",
    "\n",
    "disp(\"Functions\", FiniteSet(*(fun(x) for fun in functions)))"
   ]
  },
  {
   "attachments": {},
   "cell_type": "markdown",
   "metadata": {},
   "source": [
    "## General ODE and its solution\n"
   ]
  },
  {
   "cell_type": "code",
   "execution_count": null,
   "metadata": {},
   "outputs": [],
   "source": [
    "P = 2 * pi * r\n",
    "A_c = pi * r**2\n",
    "\n",
    "ode = Eq(T(x).diff(x, 2) - h * P / k / A_c * (T(x) - T_inf), 0)\n",
    "ics = {T(x_0): T_0, Subs(T(x).diff(x), x, x_0): q_0 / k}\n",
    "disp(\"ODE\", ode)\n",
    "disp(\"Initial conditions\", *(Eq(lhs, rhs) for lhs, rhs in ics.items()))"
   ]
  },
  {
   "cell_type": "code",
   "execution_count": null,
   "metadata": {},
   "outputs": [],
   "source": [
    "T_int_expr = dsolve(ode, T(x), ics=ics).rhs  # type: ignore  # sympy\n",
    "disp_free(\"General solution to the ODE\", Eq(T_int(x), T_int_expr))"
   ]
  },
  {
   "attachments": {},
   "cell_type": "markdown",
   "metadata": {},
   "source": [
    "## Solution in the water domain\n"
   ]
  },
  {
   "cell_type": "code",
   "execution_count": null,
   "metadata": {},
   "outputs": [],
   "source": [
    "T_w_expr = T_int_expr.subs({h: h_w, q_0: q_s, T_0: T_s, T_inf: T_infw, x_0: x_s})\n",
    "\n",
    "disp_free(\"Solution in the water domain\", Eq(T_w(x), T_w_expr))"
   ]
  },
  {
   "attachments": {},
   "cell_type": "markdown",
   "metadata": {},
   "source": [
    "## Values at the domain boundary\n"
   ]
  },
  {
   "cell_type": "code",
   "execution_count": null,
   "metadata": {},
   "outputs": [],
   "source": [
    "T_wa_expr_w = T_w_expr.subs(x, x_wa)\n",
    "q_wa_expr_w = (\n",
    "    T_w_expr.diff(x).subs(  # type: ignore  # sympy\n",
    "        x, x_wa\n",
    "    )\n",
    "    * k\n",
    ")\n",
    "\n",
    "disp_free(\"Temperature at the domain transition\", Eq(T_wa, T_wa_expr_w))\n",
    "disp_free(\"Heat flux at the domain transition\", Eq(q_wa, q_wa_expr_w))"
   ]
  },
  {
   "attachments": {},
   "cell_type": "markdown",
   "metadata": {},
   "source": [
    "## Solution in the air domain\n"
   ]
  },
  {
   "cell_type": "code",
   "execution_count": null,
   "metadata": {},
   "outputs": [],
   "source": [
    "T_a_int_expr = T_int_expr.subs({h: h_a, q_0: q_wa, T_0: T_wa, T_inf: T_infa, x_0: x_wa})\n",
    "T_a_expr = T_a_int_expr.subs({q_wa: q_wa_expr_w, T_wa: T_wa_expr_w})\n",
    "\n",
    "T_wa_expr_a = T_a_expr.subs(x, x_wa)\n",
    "q_wa_expr_a = (\n",
    "    T_a_expr.diff(x).subs(  # type: ignore  # sympy\n",
    "        x, x_wa\n",
    "    )\n",
    "    * k\n",
    ")\n",
    "\n",
    "disp_free(\"Solution in the air domain\", Eq(T_a(x), T_a_int_expr))\n",
    "disp_free(\"Solution in the air domain, with substitutions\", Eq(T_a(x), T_a_expr))"
   ]
  },
  {
   "attachments": {},
   "cell_type": "markdown",
   "metadata": {},
   "source": [
    "## Piecewise temperature distribution\n"
   ]
  },
  {
   "cell_type": "code",
   "execution_count": null,
   "metadata": {},
   "outputs": [],
   "source": [
    "T_expr = Piecewise((T_w_expr, x < x_wa), (T_a_expr, True))\n",
    "\n",
    "disp_free(\"Temperature distribution in the rod\", Eq(T(x), T_expr))"
   ]
  },
  {
   "attachments": {},
   "cell_type": "markdown",
   "metadata": {},
   "source": [
    "## Make the model function and serialize\n"
   ]
  },
  {
   "cell_type": "code",
   "execution_count": null,
   "metadata": {},
   "outputs": [],
   "source": [
    "class Models:  # noqa: D101\n",
    "    cm2_p_m2 = 100**2  # ((cm/m)^2) Conversion factor\n",
    "\n",
    "    def __init__(self):\n",
    "        \"\"\"Model of the temperature distribution in a rod.\n",
    "\n",
    "        Consists of the lambdified model function and a method for generating a wrapped\n",
    "        model function that has more flexible input requirements.\n",
    "        \"\"\"\n",
    "        expr = T_expr.evalf(\n",
    "            n=100,\n",
    "            subs=(\n",
    "                PARAMS.fit.model_inputs  # (W/m^2) = (W/cm^2 * cm^2/m^2)\n",
    "                | {q_s: q_s * self.cm2_p_m2}\n",
    "            ),\n",
    "            strict=True,\n",
    "        )\n",
    "        disp_free(\"Temperature distribution after float evaluation\", Eq(T(x), expr))\n",
    "\n",
    "        overrides = {\n",
    "            ufun.name: np.vectorize(ufun)\n",
    "            for ufun in (\n",
    "                umath.exp,  # type: ignore  # uncertainties\n",
    "                umath.sqrt,  # type: ignore  # uncertainties\n",
    "            )\n",
    "        }\n",
    "\n",
    "        self.basic = lambdify(args=params, expr=expr, modules=np)\n",
    "        self.for_ufloat = lambdify(args=params, expr=expr, modules=[overrides, np])\n",
    "\n",
    "\n",
    "models = Models()\n",
    "\n",
    "with warnings.catch_warnings():\n",
    "    warnings.simplefilter(\"ignore\", dill.PicklingWarning)\n",
    "    if \".\".join([str(elem) for elem in version_info[:2]]) == PYTHON_VERSION:\n",
    "        (PARAMS.paths.models / f\"modelfun-{PYTHON_VERSION}.dillpickle\").write_bytes(\n",
    "            dill.dumps(models)\n",
    "        )"
   ]
  }
 ],
 "metadata": {
  "kernelspec": {
   "display_name": "Python 3.10.8 ('.venv': venv)",
   "language": "python",
   "name": "python3"
  },
  "language_info": {
   "codemirror_mode": {
    "name": "ipython",
    "version": 3
   },
   "file_extension": ".py",
   "mimetype": "text/x-python",
   "name": "python",
   "nbconvert_exporter": "python",
   "pygments_lexer": "ipython3",
   "version": "3.12.1"
  },
  "vscode": {
   "interpreter": {
    "hash": "b6aa036b71bee0863c84db770605bec9f16973f1b95b8b091417c7a1242fbf62"
   }
  }
 },
 "nbformat": 4,
 "nbformat_minor": 2
}
